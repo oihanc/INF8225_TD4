{
 "cells": [
  {
   "cell_type": "code",
   "id": "initial_id",
   "metadata": {
    "collapsed": true,
    "ExecuteTime": {
     "end_time": "2025-04-17T20:47:35.806447Z",
     "start_time": "2025-04-17T20:47:35.368505Z"
    }
   },
   "source": [
    "import numpy as np\n",
    "import scipy as sp\n",
    "import matplotlib.pyplot as plt"
   ],
   "outputs": [],
   "execution_count": 2
  },
  {
   "metadata": {
    "ExecuteTime": {
     "end_time": "2025-04-17T20:47:36.058452Z",
     "start_time": "2025-04-17T20:47:35.810279Z"
    }
   },
   "cell_type": "code",
   "source": [
    "filepath= \"data/NLS.mat\"\n",
    "data = sp.io.loadmat(filepath)\n",
    "data.keys()"
   ],
   "id": "de5580094001879",
   "outputs": [
    {
     "data": {
      "text/plain": [
       "dict_keys(['__header__', '__version__', '__globals__', 'tt', 'uu', 'x'])"
      ]
     },
     "execution_count": 3,
     "metadata": {},
     "output_type": "execute_result"
    }
   ],
   "execution_count": 3
  },
  {
   "metadata": {
    "ExecuteTime": {
     "end_time": "2025-04-17T20:47:36.082067Z",
     "start_time": "2025-04-17T20:47:36.074371Z"
    }
   },
   "cell_type": "code",
   "source": [
    "exact = data[\"uu\"]\n",
    "exact_u = np.real(exact)\n",
    "exact_v = np.imag(exact)\n",
    "exact_h = np.sqrt(exact_u**2 + exact_v**2)\n",
    "data.update({\"u\": exact_u, \"v\": exact_v, \"h\": exact_h})\n",
    "data"
   ],
   "id": "5ab7cb827ddcc20d",
   "outputs": [
    {
     "data": {
      "text/plain": [
       "{'__header__': b'MATLAB 5.0 MAT-file, Platform: GLNXA64, Created on: Fri Nov 10 20:10:33 2017',\n",
       " '__version__': '1.0',\n",
       " '__globals__': [],\n",
       " 'tt': array([[0.        , 0.00785398, 0.01570796, 0.02356194, 0.03141593,\n",
       "         0.03926991, 0.04712389, 0.05497787, 0.06283185, 0.07068583,\n",
       "         0.07853982, 0.0863938 , 0.09424778, 0.10210176, 0.10995574,\n",
       "         0.11780972, 0.12566371, 0.13351769, 0.14137167, 0.14922565,\n",
       "         0.15707963, 0.16493361, 0.1727876 , 0.18064158, 0.18849556,\n",
       "         0.19634954, 0.20420352, 0.2120575 , 0.21991149, 0.22776547,\n",
       "         0.23561945, 0.24347343, 0.25132741, 0.25918139, 0.26703538,\n",
       "         0.27488936, 0.28274334, 0.29059732, 0.2984513 , 0.30630528,\n",
       "         0.31415927, 0.32201325, 0.32986723, 0.33772121, 0.34557519,\n",
       "         0.35342917, 0.36128316, 0.36913714, 0.37699112, 0.3848451 ,\n",
       "         0.39269908, 0.40055306, 0.40840704, 0.41626103, 0.42411501,\n",
       "         0.43196899, 0.43982297, 0.44767695, 0.45553093, 0.46338492,\n",
       "         0.4712389 , 0.47909288, 0.48694686, 0.49480084, 0.50265482,\n",
       "         0.51050881, 0.51836279, 0.52621677, 0.53407075, 0.54192473,\n",
       "         0.54977871, 0.5576327 , 0.56548668, 0.57334066, 0.58119464,\n",
       "         0.58904862, 0.5969026 , 0.60475659, 0.61261057, 0.62046455,\n",
       "         0.62831853, 0.63617251, 0.64402649, 0.65188048, 0.65973446,\n",
       "         0.66758844, 0.67544242, 0.6832964 , 0.69115038, 0.69900437,\n",
       "         0.70685835, 0.71471233, 0.72256631, 0.73042029, 0.73827427,\n",
       "         0.74612826, 0.75398224, 0.76183622, 0.7696902 , 0.77754418,\n",
       "         0.78539816, 0.79325215, 0.80110613, 0.80896011, 0.81681409,\n",
       "         0.82466807, 0.83252205, 0.84037603, 0.84823002, 0.856084  ,\n",
       "         0.86393798, 0.87179196, 0.87964594, 0.88749992, 0.89535391,\n",
       "         0.90320789, 0.91106187, 0.91891585, 0.92676983, 0.93462381,\n",
       "         0.9424778 , 0.95033178, 0.95818576, 0.96603974, 0.97389372,\n",
       "         0.9817477 , 0.98960169, 0.99745567, 1.00530965, 1.01316363,\n",
       "         1.02101761, 1.02887159, 1.03672558, 1.04457956, 1.05243354,\n",
       "         1.06028752, 1.0681415 , 1.07599548, 1.08384947, 1.09170345,\n",
       "         1.09955743, 1.10741141, 1.11526539, 1.12311937, 1.13097336,\n",
       "         1.13882734, 1.14668132, 1.1545353 , 1.16238928, 1.17024326,\n",
       "         1.17809725, 1.18595123, 1.19380521, 1.20165919, 1.20951317,\n",
       "         1.21736715, 1.22522113, 1.23307512, 1.2409291 , 1.24878308,\n",
       "         1.25663706, 1.26449104, 1.27234502, 1.28019901, 1.28805299,\n",
       "         1.29590697, 1.30376095, 1.31161493, 1.31946891, 1.3273229 ,\n",
       "         1.33517688, 1.34303086, 1.35088484, 1.35873882, 1.3665928 ,\n",
       "         1.37444679, 1.38230077, 1.39015475, 1.39800873, 1.40586271,\n",
       "         1.41371669, 1.42157068, 1.42942466, 1.43727864, 1.44513262,\n",
       "         1.4529866 , 1.46084058, 1.46869457, 1.47654855, 1.48440253,\n",
       "         1.49225651, 1.50011049, 1.50796447, 1.51581846, 1.52367244,\n",
       "         1.53152642, 1.5393804 , 1.54723438, 1.55508836, 1.56294235,\n",
       "         1.57079633]]),\n",
       " 'uu': array([[0.02695056+0.j        , 0.02827012+0.00146903j,\n",
       "         0.0288274 +0.00213867j, ..., 0.02665185+0.04351623j,\n",
       "         0.02656448+0.04371347j, 0.02636017+0.04372676j],\n",
       "        [0.02802405+0.j        , 0.02842761+0.00135905j,\n",
       "         0.02894688+0.00205622j, ..., 0.02668994+0.04357945j,\n",
       "         0.02647879+0.043702j  , 0.02632516+0.0436945j ],\n",
       "        [0.02914028+0.j        , 0.02890443+0.00097615j,\n",
       "         0.0292946 +0.00178398j, ..., 0.02671541+0.04375932j,\n",
       "         0.02650992+0.04371189j, 0.02630184+0.04379966j],\n",
       "        ...,\n",
       "        [0.03030097+0.j        , 0.02977699+0.00049188j,\n",
       "         0.02991428+0.00138559j, ..., 0.02673252+0.04401975j,\n",
       "         0.02654369+0.04390328j, 0.02642052+0.04400636j],\n",
       "        [0.02914028+0.j        , 0.02890443+0.00097615j,\n",
       "         0.0292946 +0.00178398j, ..., 0.02671541+0.04375932j,\n",
       "         0.02650992+0.04371189j, 0.02630184+0.04379966j],\n",
       "        [0.02802405+0.j        , 0.02842761+0.00135905j,\n",
       "         0.02894688+0.00205622j, ..., 0.02668994+0.04357945j,\n",
       "         0.02647879+0.043702j  , 0.02632516+0.0436945j ]]),\n",
       " 'x': array([[-5.       , -4.9609375, -4.921875 , -4.8828125, -4.84375  ,\n",
       "         -4.8046875, -4.765625 , -4.7265625, -4.6875   , -4.6484375,\n",
       "         -4.609375 , -4.5703125, -4.53125  , -4.4921875, -4.453125 ,\n",
       "         -4.4140625, -4.375    , -4.3359375, -4.296875 , -4.2578125,\n",
       "         -4.21875  , -4.1796875, -4.140625 , -4.1015625, -4.0625   ,\n",
       "         -4.0234375, -3.984375 , -3.9453125, -3.90625  , -3.8671875,\n",
       "         -3.828125 , -3.7890625, -3.75     , -3.7109375, -3.671875 ,\n",
       "         -3.6328125, -3.59375  , -3.5546875, -3.515625 , -3.4765625,\n",
       "         -3.4375   , -3.3984375, -3.359375 , -3.3203125, -3.28125  ,\n",
       "         -3.2421875, -3.203125 , -3.1640625, -3.125    , -3.0859375,\n",
       "         -3.046875 , -3.0078125, -2.96875  , -2.9296875, -2.890625 ,\n",
       "         -2.8515625, -2.8125   , -2.7734375, -2.734375 , -2.6953125,\n",
       "         -2.65625  , -2.6171875, -2.578125 , -2.5390625, -2.5      ,\n",
       "         -2.4609375, -2.421875 , -2.3828125, -2.34375  , -2.3046875,\n",
       "         -2.265625 , -2.2265625, -2.1875   , -2.1484375, -2.109375 ,\n",
       "         -2.0703125, -2.03125  , -1.9921875, -1.953125 , -1.9140625,\n",
       "         -1.875    , -1.8359375, -1.796875 , -1.7578125, -1.71875  ,\n",
       "         -1.6796875, -1.640625 , -1.6015625, -1.5625   , -1.5234375,\n",
       "         -1.484375 , -1.4453125, -1.40625  , -1.3671875, -1.328125 ,\n",
       "         -1.2890625, -1.25     , -1.2109375, -1.171875 , -1.1328125,\n",
       "         -1.09375  , -1.0546875, -1.015625 , -0.9765625, -0.9375   ,\n",
       "         -0.8984375, -0.859375 , -0.8203125, -0.78125  , -0.7421875,\n",
       "         -0.703125 , -0.6640625, -0.625    , -0.5859375, -0.546875 ,\n",
       "         -0.5078125, -0.46875  , -0.4296875, -0.390625 , -0.3515625,\n",
       "         -0.3125   , -0.2734375, -0.234375 , -0.1953125, -0.15625  ,\n",
       "         -0.1171875, -0.078125 , -0.0390625,  0.       ,  0.0390625,\n",
       "          0.078125 ,  0.1171875,  0.15625  ,  0.1953125,  0.234375 ,\n",
       "          0.2734375,  0.3125   ,  0.3515625,  0.390625 ,  0.4296875,\n",
       "          0.46875  ,  0.5078125,  0.546875 ,  0.5859375,  0.625    ,\n",
       "          0.6640625,  0.703125 ,  0.7421875,  0.78125  ,  0.8203125,\n",
       "          0.859375 ,  0.8984375,  0.9375   ,  0.9765625,  1.015625 ,\n",
       "          1.0546875,  1.09375  ,  1.1328125,  1.171875 ,  1.2109375,\n",
       "          1.25     ,  1.2890625,  1.328125 ,  1.3671875,  1.40625  ,\n",
       "          1.4453125,  1.484375 ,  1.5234375,  1.5625   ,  1.6015625,\n",
       "          1.640625 ,  1.6796875,  1.71875  ,  1.7578125,  1.796875 ,\n",
       "          1.8359375,  1.875    ,  1.9140625,  1.953125 ,  1.9921875,\n",
       "          2.03125  ,  2.0703125,  2.109375 ,  2.1484375,  2.1875   ,\n",
       "          2.2265625,  2.265625 ,  2.3046875,  2.34375  ,  2.3828125,\n",
       "          2.421875 ,  2.4609375,  2.5      ,  2.5390625,  2.578125 ,\n",
       "          2.6171875,  2.65625  ,  2.6953125,  2.734375 ,  2.7734375,\n",
       "          2.8125   ,  2.8515625,  2.890625 ,  2.9296875,  2.96875  ,\n",
       "          3.0078125,  3.046875 ,  3.0859375,  3.125    ,  3.1640625,\n",
       "          3.203125 ,  3.2421875,  3.28125  ,  3.3203125,  3.359375 ,\n",
       "          3.3984375,  3.4375   ,  3.4765625,  3.515625 ,  3.5546875,\n",
       "          3.59375  ,  3.6328125,  3.671875 ,  3.7109375,  3.75     ,\n",
       "          3.7890625,  3.828125 ,  3.8671875,  3.90625  ,  3.9453125,\n",
       "          3.984375 ,  4.0234375,  4.0625   ,  4.1015625,  4.140625 ,\n",
       "          4.1796875,  4.21875  ,  4.2578125,  4.296875 ,  4.3359375,\n",
       "          4.375    ,  4.4140625,  4.453125 ,  4.4921875,  4.53125  ,\n",
       "          4.5703125,  4.609375 ,  4.6484375,  4.6875   ,  4.7265625,\n",
       "          4.765625 ,  4.8046875,  4.84375  ,  4.8828125,  4.921875 ,\n",
       "          4.9609375]]),\n",
       " 'u': array([[0.02695056, 0.02827012, 0.0288274 , ..., 0.02665185, 0.02656448,\n",
       "         0.02636017],\n",
       "        [0.02802405, 0.02842761, 0.02894688, ..., 0.02668994, 0.02647879,\n",
       "         0.02632516],\n",
       "        [0.02914028, 0.02890443, 0.0292946 , ..., 0.02671541, 0.02650992,\n",
       "         0.02630184],\n",
       "        ...,\n",
       "        [0.03030097, 0.02977699, 0.02991428, ..., 0.02673252, 0.02654369,\n",
       "         0.02642052],\n",
       "        [0.02914028, 0.02890443, 0.0292946 , ..., 0.02671541, 0.02650992,\n",
       "         0.02630184],\n",
       "        [0.02802405, 0.02842761, 0.02894688, ..., 0.02668994, 0.02647879,\n",
       "         0.02632516]]),\n",
       " 'v': array([[0.        , 0.00146903, 0.00213867, ..., 0.04351623, 0.04371347,\n",
       "         0.04372676],\n",
       "        [0.        , 0.00135905, 0.00205622, ..., 0.04357945, 0.043702  ,\n",
       "         0.0436945 ],\n",
       "        [0.        , 0.00097615, 0.00178398, ..., 0.04375932, 0.04371189,\n",
       "         0.04379966],\n",
       "        ...,\n",
       "        [0.        , 0.00049188, 0.00138559, ..., 0.04401975, 0.04390328,\n",
       "         0.04400636],\n",
       "        [0.        , 0.00097615, 0.00178398, ..., 0.04375932, 0.04371189,\n",
       "         0.04379966],\n",
       "        [0.        , 0.00135905, 0.00205622, ..., 0.04357945, 0.043702  ,\n",
       "         0.0436945 ]]),\n",
       " 'h': array([[0.02695056, 0.02830826, 0.02890662, ..., 0.05102925, 0.05115212,\n",
       "         0.05105769],\n",
       "        [0.02802405, 0.02846008, 0.02901981, ..., 0.05110305, 0.05109786,\n",
       "         0.05101199],\n",
       "        [0.02914028, 0.02892091, 0.02934887, ..., 0.05126979, 0.05112245,\n",
       "         0.05109009],\n",
       "        ...,\n",
       "        [0.03030097, 0.02978105, 0.02994636, ..., 0.05150113, 0.05130366,\n",
       "         0.05132839],\n",
       "        [0.02914028, 0.02892091, 0.02934887, ..., 0.05126979, 0.05112245,\n",
       "         0.05109009],\n",
       "        [0.02802405, 0.02846008, 0.02901981, ..., 0.05110305, 0.05109786,\n",
       "         0.05101199]])}"
      ]
     },
     "execution_count": 4,
     "metadata": {},
     "output_type": "execute_result"
    }
   ],
   "execution_count": 4
  },
  {
   "metadata": {
    "ExecuteTime": {
     "end_time": "2025-04-17T20:52:07.197814Z",
     "start_time": "2025-04-17T20:52:07.125805Z"
    }
   },
   "cell_type": "code",
   "source": [
    "data['h'].shape\n",
    "fig, ax = plt.subplots(1)\n",
    "#\n",
    "ax.contourf(data['tt'][0, :], data['x'][0, :], data[\"h\"])"
   ],
   "id": "794430b24b5818e8",
   "outputs": [
    {
     "data": {
      "text/plain": [
       "<matplotlib.contour.QuadContourSet at 0x7fe719909a30>"
      ]
     },
     "execution_count": 14,
     "metadata": {},
     "output_type": "execute_result"
    },
    {
     "data": {
      "text/plain": [
       "<Figure size 640x480 with 1 Axes>"
      ],
      "image/png": "[encoded data removed]"
     },
     "metadata": {},
     "output_type": "display_data"
    }
   ],
   "execution_count": 14
  }
 ],
 "metadata": {
  "kernelspec": {
   "display_name": "Python 3",
   "language": "python",
   "name": "python3"
  },
  "language_info": {
   "codemirror_mode": {
    "name": "ipython",
    "version": 2
   },
   "file_extension": ".py",
   "mimetype": "text/x-python",
   "name": "python",
   "nbconvert_exporter": "python",
   "pygments_lexer": "ipython2",
   "version": "2.7.6"
  }
 },
 "nbformat": 4,
 "nbformat_minor": 5
}
